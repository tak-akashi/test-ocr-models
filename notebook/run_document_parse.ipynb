{
 "cells": [
  {
   "cell_type": "code",
   "execution_count": 1,
   "id": "ee2d7e6d",
   "metadata": {},
   "outputs": [
    {
     "data": {
      "text/plain": [
       "True"
      ]
     },
     "execution_count": 1,
     "metadata": {},
     "output_type": "execute_result"
    }
   ],
   "source": [
    "import requests\n",
    "import os\n",
    "from pathlib import Path\n",
    "from dotenv import load_dotenv\n",
    "\n",
    "load_dotenv()"
   ]
  },
  {
   "cell_type": "code",
   "execution_count": 8,
   "id": "fe16a006",
   "metadata": {},
   "outputs": [],
   "source": [
    "# htmlの文字化けを解消したい。\n",
    "\n",
    "from bs4 import BeautifulSoup\n",
    "import chardet\n",
    "\n",
    "def normalize_html_content(content):\n",
    "    # bytesならエンコーディング推定→デコード\n",
    "    if isinstance(content, (bytes, bytearray)):\n",
    "        enc = chardet.detect(content).get(\"encoding\") or \"utf-8\"\n",
    "        text = content.decode(enc, errors=\"replace\")\n",
    "    else:\n",
    "        text = content\n",
    "\n",
    "    # <meta charset=\"utf-8\"> を保証\n",
    "    soup = BeautifulSoup(text, \"html.parser\")\n",
    "    if soup.head is None:\n",
    "        # head がない場合は作る\n",
    "        html = soup.new_tag(\"html\")\n",
    "        head = soup.new_tag(\"head\")\n",
    "        body = soup.new_tag(\"body\")\n",
    "        body.append(soup)  # 既存ノードを body 下へ\n",
    "        html.append(head)\n",
    "        html.append(body)\n",
    "        soup = BeautifulSoup(str(html), \"html.parser\")\n",
    "\n",
    "    if not soup.head.find(\"meta\", attrs={\"charset\": True}):\n",
    "        meta = soup.new_tag(\"meta\", charset=\"utf-8\")\n",
    "        soup.head.insert(0, meta)\n",
    "    else:\n",
    "        soup.head.find(\"meta\", attrs={\"charset\": True})[\"charset\"] = \"utf-8\"\n",
    "\n",
    "    # テーブルの線を表示するためのCSSスタイルを追加\n",
    "    style = soup.new_tag(\"style\")\n",
    "    style.string = \"\"\"\n",
    "    table {\n",
    "        border-collapse: collapse;\n",
    "        width: 100%;\n",
    "        margin: 10px 0;\n",
    "    }\n",
    "    table, th, td {\n",
    "        border: 1px solid #000;\n",
    "    }\n",
    "    th, td {\n",
    "        padding: 8px;\n",
    "        text-align: left;\n",
    "    }\n",
    "    th {\n",
    "        background-color: #f2f2f2;\n",
    "        font-weight: bold;\n",
    "    }\n",
    "    \"\"\"\n",
    "    soup.head.append(style)\n",
    "\n",
    "    return str(soup)"
   ]
  },
  {
   "cell_type": "code",
   "execution_count": 9,
   "id": "1800b944",
   "metadata": {},
   "outputs": [],
   "source": [
    "def save_html(html, pdf_path, output_dir, normalize: bool = True):\n",
    "    output_path = output_dir / pdf_path.with_suffix(\".html\").name\n",
    "    if normalize:\n",
    "        html = normalize_html_content(html)\n",
    "    with open(output_path, \"w\") as f:\n",
    "        f.write(html)\n",
    "\n",
    "def save_markdown(markdown, pdf_path, output_dir):\n",
    "    output_path = output_dir / pdf_path.with_suffix(\".md\").name\n",
    "    with open(output_path, \"w\") as f:\n",
    "        f.write(markdown)"
   ]
  },
  {
   "cell_type": "code",
   "execution_count": 10,
   "id": "d6455743",
   "metadata": {},
   "outputs": [],
   "source": [
    "def run_upstage(pdf_path, output_dir: Path = Path(\"../output/upstage\"), \n",
    "                type: str = \"html\", save: bool = True, normalize: bool = True):\n",
    "    url = \"https://api.upstage.ai/v1/document-digitization\"\n",
    "    api_key = os.getenv(\"UPSTAGE_API_KEY\")\n",
    "    headers = {\"Authorization\": f\"Bearer {api_key}\"}\n",
    "    # extracted_pdf_pathを使用（前のセルで設定された一時PDFファイル）\n",
    "    files = {\"document\": open(pdf_path, \"rb\")}\n",
    "    data = {\"ocr\": \"auto\", \"model\": \"document-parse-nightly\"}\n",
    "    response = requests.post(url, headers=headers, files=files, data=data)\n",
    "    if response.status_code != 200:\n",
    "        raise Exception(f\"Error: {response.status_code} - {response.text}\")\n",
    "    if type == \"html\":\n",
    "        content = response.json()[\"content\"][\"html\"]\n",
    "    elif type == \"markdown\":\n",
    "        content = response.json()[\"content\"][\"markdown\"]\n",
    "    if save:\n",
    "        output_path = output_dir / pdf_path.parent.name\n",
    "        output_path.mkdir(parents=True, exist_ok=True)\n",
    "        if type == \"html\":\n",
    "            save_html(content, pdf_path, output_path, normalize)\n",
    "        elif type == \"markdown\":\n",
    "            save_markdown(content, pdf_path, output_path)\n",
    "    return content"
   ]
  },
  {
   "cell_type": "markdown",
   "id": "ce009900",
   "metadata": {},
   "source": [
    "### 実行"
   ]
  },
  {
   "cell_type": "code",
   "execution_count": 12,
   "id": "b342877d",
   "metadata": {},
   "outputs": [],
   "source": [
    "pdf_path = Path(\"../temp/FSA_保険モニタリングレポート_2025_抜粋_コア_1.pdf\")\n",
    "content = run_upstage(pdf_path, normalize=False)"
   ]
  },
  {
   "cell_type": "code",
   "execution_count": null,
   "id": "4a262952",
   "metadata": {},
   "outputs": [],
   "source": []
  }
 ],
 "metadata": {
  "kernelspec": {
   "display_name": ".venv",
   "language": "python",
   "name": "python3"
  },
  "language_info": {
   "codemirror_mode": {
    "name": "ipython",
    "version": 3
   },
   "file_extension": ".py",
   "mimetype": "text/x-python",
   "name": "python",
   "nbconvert_exporter": "python",
   "pygments_lexer": "ipython3",
   "version": "3.12.9"
  }
 },
 "nbformat": 4,
 "nbformat_minor": 5
}
