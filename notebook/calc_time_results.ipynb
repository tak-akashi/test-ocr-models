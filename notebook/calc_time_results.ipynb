{
 "cells": [
  {
   "cell_type": "code",
   "execution_count": 2,
   "id": "48dee857",
   "metadata": {},
   "outputs": [],
   "source": [
    "import pandas as pd\n",
    "import json\n",
    "\n",
    "file_path = \"../output/20251008-1813/timing_results/timing_results_20251008_182144.json\"\n",
    "\n",
    "df = pd.read_json(file_path)"
   ]
  },
  {
   "cell_type": "code",
   "execution_count": 3,
   "id": "396e94f7",
   "metadata": {},
   "outputs": [
    {
     "data": {
      "text/html": [
       "<div>\n",
       "<style scoped>\n",
       "    .dataframe tbody tr th:only-of-type {\n",
       "        vertical-align: middle;\n",
       "    }\n",
       "\n",
       "    .dataframe tbody tr th {\n",
       "        vertical-align: top;\n",
       "    }\n",
       "\n",
       "    .dataframe thead th {\n",
       "        text-align: right;\n",
       "    }\n",
       "</style>\n",
       "<table border=\"1\" class=\"dataframe\">\n",
       "  <thead>\n",
       "    <tr style=\"text-align: right;\">\n",
       "      <th></th>\n",
       "      <th>timestamp</th>\n",
       "      <th>total_files</th>\n",
       "      <th>selected_models</th>\n",
       "      <th>output_base_dir</th>\n",
       "      <th>results</th>\n",
       "    </tr>\n",
       "  </thead>\n",
       "  <tbody>\n",
       "    <tr>\n",
       "      <th>0</th>\n",
       "      <td>2025-10-08 18:13:46.801891</td>\n",
       "      <td>5</td>\n",
       "      <td>upstage</td>\n",
       "      <td>output/20251008-1813</td>\n",
       "      <td>{'file_path': 'data/東京海上日動_total_assist_自動車保険ご...</td>\n",
       "    </tr>\n",
       "    <tr>\n",
       "      <th>1</th>\n",
       "      <td>2025-10-08 18:13:46.801891</td>\n",
       "      <td>5</td>\n",
       "      <td>azure</td>\n",
       "      <td>output/20251008-1813</td>\n",
       "      <td>{'file_path': 'data/20250915_業務日報.pdf', 'file_...</td>\n",
       "    </tr>\n",
       "    <tr>\n",
       "      <th>2</th>\n",
       "      <td>2025-10-08 18:13:46.801891</td>\n",
       "      <td>5</td>\n",
       "      <td>yomitoku</td>\n",
       "      <td>output/20251008-1813</td>\n",
       "      <td>{'file_path': 'data/0686240_ツミタス汎用_表.pdf', 'fi...</td>\n",
       "    </tr>\n",
       "    <tr>\n",
       "      <th>3</th>\n",
       "      <td>2025-10-08 18:13:46.801891</td>\n",
       "      <td>5</td>\n",
       "      <td>gemini</td>\n",
       "      <td>output/20251008-1813</td>\n",
       "      <td>{'file_path': 'data/02_receipt_sample.pdf', 'f...</td>\n",
       "    </tr>\n",
       "    <tr>\n",
       "      <th>4</th>\n",
       "      <td>2025-10-08 18:13:46.801891</td>\n",
       "      <td>5</td>\n",
       "      <td>claude</td>\n",
       "      <td>output/20251008-1813</td>\n",
       "      <td>{'file_path': 'data/20251008_保険金請求書兼同意書_sample...</td>\n",
       "    </tr>\n",
       "  </tbody>\n",
       "</table>\n",
       "</div>"
      ],
      "text/plain": [
       "                   timestamp  total_files selected_models  \\\n",
       "0 2025-10-08 18:13:46.801891            5         upstage   \n",
       "1 2025-10-08 18:13:46.801891            5           azure   \n",
       "2 2025-10-08 18:13:46.801891            5        yomitoku   \n",
       "3 2025-10-08 18:13:46.801891            5          gemini   \n",
       "4 2025-10-08 18:13:46.801891            5          claude   \n",
       "\n",
       "        output_base_dir                                            results  \n",
       "0  output/20251008-1813  {'file_path': 'data/東京海上日動_total_assist_自動車保険ご...  \n",
       "1  output/20251008-1813  {'file_path': 'data/20250915_業務日報.pdf', 'file_...  \n",
       "2  output/20251008-1813  {'file_path': 'data/0686240_ツミタス汎用_表.pdf', 'fi...  \n",
       "3  output/20251008-1813  {'file_path': 'data/02_receipt_sample.pdf', 'f...  \n",
       "4  output/20251008-1813  {'file_path': 'data/20251008_保険金請求書兼同意書_sample...  "
      ]
     },
     "execution_count": 3,
     "metadata": {},
     "output_type": "execute_result"
    }
   ],
   "source": [
    "df"
   ]
  },
  {
   "cell_type": "code",
   "execution_count": 4,
   "id": "a664766f",
   "metadata": {},
   "outputs": [],
   "source": [
    "with open(file_path, \"r\") as f:\n",
    "    data = json.load(f)\n"
   ]
  },
  {
   "cell_type": "code",
   "execution_count": 5,
   "id": "2b692409",
   "metadata": {},
   "outputs": [
    {
     "data": {
      "text/plain": [
       "{'timestamp': '2025-10-08T18:13:46.801891',\n",
       " 'total_files': 5,\n",
       " 'selected_models': ['upstage', 'azure', 'yomitoku', 'gemini', 'claude'],\n",
       " 'output_base_dir': 'output/20251008-1813',\n",
       " 'results': [{'file_path': 'data/東京海上日動_total_assist_自動車保険ご契約のしおり_250101_p20-21.pdf',\n",
       "   'file_name': '東京海上日動_total_assist_自動車保険ご契約のしおり_250101_p20-21.pdf',\n",
       "   'models': {'upstage': {'status': 'success',\n",
       "     'execution_time': 5.18952488899231},\n",
       "    'azure': {'status': 'success', 'execution_time': 5.043642997741699},\n",
       "    'yomitoku': {'status': 'success', 'execution_time': 14.006295680999756},\n",
       "    'gemini': {'status': 'success', 'execution_time': 50.145285844802856},\n",
       "    'claude': {'status': 'success', 'execution_time': 79.36175608634949}}},\n",
       "  {'file_path': 'data/20250915_業務日報.pdf',\n",
       "   'file_name': '20250915_業務日報.pdf',\n",
       "   'models': {'upstage': {'status': 'success',\n",
       "     'execution_time': 2.6614699363708496},\n",
       "    'azure': {'status': 'success', 'execution_time': 3.5728139877319336},\n",
       "    'yomitoku': {'status': 'success', 'execution_time': 5.120495796203613},\n",
       "    'gemini': {'status': 'success', 'execution_time': 11.267893075942993},\n",
       "    'claude': {'status': 'success', 'execution_time': 13.184404850006104}}},\n",
       "  {'file_path': 'data/0686240_ツミタス汎用_表.pdf',\n",
       "   'file_name': '0686240_ツミタス汎用_表.pdf',\n",
       "   'models': {'upstage': {'status': 'success',\n",
       "     'execution_time': 7.5854010581970215},\n",
       "    'azure': {'status': 'success', 'execution_time': 10.329157829284668},\n",
       "    'yomitoku': {'status': 'success', 'execution_time': 23.14675211906433},\n",
       "    'gemini': {'status': 'success', 'execution_time': 38.220728158950806},\n",
       "    'claude': {'status': 'success', 'execution_time': 37.17683982849121}}},\n",
       "  {'file_path': 'data/02_receipt_sample.pdf',\n",
       "   'file_name': '02_receipt_sample.pdf',\n",
       "   'models': {'upstage': {'status': 'success',\n",
       "     'execution_time': 1.7133560180664062},\n",
       "    'azure': {'status': 'success', 'execution_time': 3.4956679344177246},\n",
       "    'yomitoku': {'status': 'success', 'execution_time': 4.628827333450317},\n",
       "    'gemini': {'status': 'success', 'execution_time': 8.07778525352478},\n",
       "    'claude': {'status': 'success', 'execution_time': 10.844578981399536}}},\n",
       "  {'file_path': 'data/20251008_保険金請求書兼同意書_sample.pdf',\n",
       "   'file_name': '20251008_保険金請求書兼同意書_sample.pdf',\n",
       "   'models': {'upstage': {'status': 'success',\n",
       "     'execution_time': 3.849909782409668},\n",
       "    'azure': {'status': 'success', 'execution_time': 10.021790981292725},\n",
       "    'yomitoku': {'status': 'success', 'execution_time': 18.722429037094116},\n",
       "    'gemini': {'status': 'success', 'execution_time': 48.78957414627075},\n",
       "    'claude': {'status': 'success', 'execution_time': 61.12410020828247}}}]}"
      ]
     },
     "execution_count": 5,
     "metadata": {},
     "output_type": "execute_result"
    }
   ],
   "source": [
    "data"
   ]
  },
  {
   "cell_type": "code",
   "execution_count": 10,
   "id": "cab880c7",
   "metadata": {},
   "outputs": [
    {
     "name": "stdout",
     "output_type": "stream",
     "text": [
      "upstage: 4.199932336807251\n",
      "azure: 6.49261474609375\n",
      "yomitoku: 13.124959993362427\n",
      "gemini: 31.300253295898436\n",
      "claude: 40.33833599090576\n"
     ]
    }
   ],
   "source": [
    "upstage = []\n",
    "azure = []\n",
    "yomitoku = []\n",
    "gemini = []\n",
    "claude = []\n",
    "\n",
    "for each in data[\"results\"]:\n",
    "    upstage.append(each[\"models\"][\"upstage\"][\"execution_time\"])\n",
    "    azure.append(each[\"models\"][\"azure\"][\"execution_time\"])\n",
    "    yomitoku.append(each[\"models\"][\"yomitoku\"][\"execution_time\"])\n",
    "    gemini.append(each[\"models\"][\"gemini\"][\"execution_time\"])\n",
    "    claude.append(each[\"models\"][\"claude\"][\"execution_time\"])\n",
    "\n",
    "print(f\"upstage: {sum(upstage)/len(upstage)}\")\n",
    "print(f\"azure: {sum(azure)/len(azure)}\")\n",
    "print(f\"yomitoku: {sum(yomitoku)/len(yomitoku)}\")\n",
    "print(f\"gemini: {sum(gemini)/len(gemini)}\")\n",
    "print(f\"claude: {sum(claude)/len(claude)}\")\n",
    "\n",
    "\n",
    "\n"
   ]
  },
  {
   "cell_type": "code",
   "execution_count": null,
   "id": "61924133",
   "metadata": {},
   "outputs": [],
   "source": []
  }
 ],
 "metadata": {
  "kernelspec": {
   "display_name": ".venv",
   "language": "python",
   "name": "python3"
  },
  "language_info": {
   "codemirror_mode": {
    "name": "ipython",
    "version": 3
   },
   "file_extension": ".py",
   "mimetype": "text/x-python",
   "name": "python",
   "nbconvert_exporter": "python",
   "pygments_lexer": "ipython3",
   "version": "3.12.9"
  }
 },
 "nbformat": 4,
 "nbformat_minor": 5
}
